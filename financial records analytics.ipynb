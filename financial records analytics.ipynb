{
 "cells": [
  {
   "cell_type": "markdown",
   "metadata": {},
   "source": [
    "#### financial records analytics\n",
    "*This note contains python code written to do analysis on my own financial records from March 2019 'till March 2020.*"
   ]
  },
  {
   "cell_type": "markdown",
   "metadata": {},
   "source": [
    "# Setup\n",
    "First, let's make sure this notebook works well by importing a few common modules, ensure MatplotLib plots figures:"
   ]
  },
  {
   "cell_type": "code",
   "execution_count": 53,
   "metadata": {},
   "outputs": [],
   "source": [
    "import pandas as pd\n",
    "import matplotlib.pyplot as plt\n",
    "from adjustText import adjust_text\n",
    "import numpy as np"
   ]
  },
  {
   "cell_type": "code",
   "execution_count": 54,
   "metadata": {
    "scrolled": false
   },
   "outputs": [
    {
     "data": {
      "text/plain": [
       "'/home/ehab/Desktop/clean-dfs-analytics'"
      ]
     },
     "execution_count": 54,
     "metadata": {},
     "output_type": "execute_result"
    }
   ],
   "source": [
    "pwd"
   ]
  },
  {
   "cell_type": "markdown",
   "metadata": {},
   "source": [
    "# Combining and tuning dataset\n",
    "Build dataset after running cleaning script on both df's."
   ]
  },
  {
   "cell_type": "code",
   "execution_count": 58,
   "metadata": {},
   "outputs": [
    {
     "data": {
      "text/html": [
       "<div>\n",
       "<style scoped>\n",
       "    .dataframe tbody tr th:only-of-type {\n",
       "        vertical-align: middle;\n",
       "    }\n",
       "\n",
       "    .dataframe tbody tr th {\n",
       "        vertical-align: top;\n",
       "    }\n",
       "\n",
       "    .dataframe thead th {\n",
       "        text-align: right;\n",
       "    }\n",
       "</style>\n",
       "<table border=\"1\" class=\"dataframe\">\n",
       "  <thead>\n",
       "    <tr style=\"text-align: right;\">\n",
       "      <th></th>\n",
       "      <th>Date</th>\n",
       "      <th>Transaction</th>\n",
       "      <th>Amount</th>\n",
       "      <th>Category</th>\n",
       "    </tr>\n",
       "  </thead>\n",
       "  <tbody>\n",
       "    <tr>\n",
       "      <th>0</th>\n",
       "      <td>2019-03-27</td>\n",
       "      <td>WITHDRAWAL</td>\n",
       "      <td>800.0</td>\n",
       "      <td>NaN</td>\n",
       "    </tr>\n",
       "    <tr>\n",
       "      <th>1</th>\n",
       "      <td>2019-04-14</td>\n",
       "      <td>WITHDRAWAL</td>\n",
       "      <td>200.0</td>\n",
       "      <td>NaN</td>\n",
       "    </tr>\n",
       "    <tr>\n",
       "      <th>2</th>\n",
       "      <td>2019-04-15</td>\n",
       "      <td>WITHDRAWAL</td>\n",
       "      <td>300.0</td>\n",
       "      <td>NaN</td>\n",
       "    </tr>\n",
       "    <tr>\n",
       "      <th>3</th>\n",
       "      <td>2019-04-18</td>\n",
       "      <td>WITHDRAWAL</td>\n",
       "      <td>3.0</td>\n",
       "      <td>NaN</td>\n",
       "    </tr>\n",
       "    <tr>\n",
       "      <th>4</th>\n",
       "      <td>2019-04-18</td>\n",
       "      <td>WITHDRAWAL</td>\n",
       "      <td>100.0</td>\n",
       "      <td>NaN</td>\n",
       "    </tr>\n",
       "  </tbody>\n",
       "</table>\n",
       "</div>"
      ],
      "text/plain": [
       "        Date Transaction  Amount  Category\n",
       "0 2019-03-27  WITHDRAWAL   800.0       NaN\n",
       "1 2019-04-14  WITHDRAWAL   200.0       NaN\n",
       "2 2019-04-15  WITHDRAWAL   300.0       NaN\n",
       "3 2019-04-18  WITHDRAWAL     3.0       NaN\n",
       "4 2019-04-18  WITHDRAWAL   100.0       NaN"
      ]
     },
     "execution_count": 58,
     "metadata": {},
     "output_type": "execute_result"
    }
   ],
   "source": [
    "df_credit = pd.read_csv('/home/ehab/Desktop/clean-dfs-analytics/analytics-22158-credit.csv')\n",
    "df_debit = pd.read_csv('/home/ehab/Desktop/clean-dfs-analytics/analytics-22158-debit.csv')\n",
    "frames = [df_credit, df_debit]\n",
    "df = pd.concat(frames,ignore_index=True)\n",
    "#df = df.drop(columns=[\"Unnamed: 4\",\"Unnamed: 5\",\"Unnamed: 6\"])\n",
    "# sorting transactions by date\n",
    "df['Date'] = pd.to_datetime(df['Date'], format='%d/%m/%Y')\n",
    "df = df.sort_values(by='Date',ignore_index=True)\n",
    "df.head()"
   ]
  },
  {
   "cell_type": "code",
   "execution_count": 59,
   "metadata": {},
   "outputs": [
    {
     "data": {
      "text/plain": [
       "array(['WITHDRAWAL', 'PAPA JOHNS', 'Uber', 'Spotify',\n",
       "       'TOTAL FUEL Gas Station', 'EL EZABY', 'H&M-CAIRO FESTIVAL',\n",
       "       'AMERICAN EAGLE OUTFIT', 'CARREFOUR', 'myfawry', 'MASTER EXPRESS',\n",
       "       'PIZZAHUT', 'IKEA', 'HOLMES BURGERS', 'Go Bus', 'AMZN', 'MINISO',\n",
       "       'Dahab Hostel', 'BRAZILIAN COFFEE', 'BERSHKA', 'DECATHLON',\n",
       "       'VAUDE', 'LC WAIKIKI', 'BOXER', 'TOWN TEAM', 'STARBUCKS',\n",
       "       'EMARATMISR', 'UDEMY', 'MCDONALDS', 'Swvl', 'SOUQ', 'Other',\n",
       "       'ALFA LAB', 'ZARA', 'DRINIKIES DUNES', 'CILANTRO', 'EL AMIN',\n",
       "       'ADIDAS', 'ON THE RUN', 'MAHRAGA', 'HEART ATTACK', 'SPINNEYS',\n",
       "       'CAREEM', 'DUKES', 'Flight Tickets', 'German Course',\n",
       "       'TOTAL BONJOUR Gas Station', 'KFC', 'RADIOSHACK', 'EGYPTRAILWAYS'],\n",
       "      dtype=object)"
      ]
     },
     "execution_count": 59,
     "metadata": {},
     "output_type": "execute_result"
    }
   ],
   "source": [
    "df['Transaction'].unique()"
   ]
  },
  {
   "cell_type": "markdown",
   "metadata": {},
   "source": [
    "## Categorization method\n",
    "Categorization function to categorize transactions and put labels on them for deeper element access:"
   ]
  },
  {
   "cell_type": "code",
   "execution_count": 60,
   "metadata": {},
   "outputs": [],
   "source": [
    "def categorizations(word):\n",
    "    category_dict = {\n",
    "        \"WITHDRAWAL\" : \"Withdrawal\",\n",
    "        \"PAPA JOHNS\" : \"Eating Out\",\n",
    "        \"PIZZAHUT\" : \"Eating Out\",\n",
    "        \"HOLMES BURGERS\" : \"Eating Out\",\n",
    "        \"DUKES\" : \"Eating Out\",\n",
    "        \"KFC\" : \"Eating Out\",\n",
    "        \"MCDONALDS\" : \"Eating Out\",\n",
    "        \"MAHRAGA\" : \"Eating Out\",\n",
    "        \"EL AMIN\" : \"Eating Out\",\n",
    "        \"DRINIKIES DUNES\" : \"Eating Out\",\n",
    "        \"CILANTRO\" : \"Eating Out\",\n",
    "        \"HEART ATTACK\" : \"Eating Out\",\n",
    "        \"BRAZILIAN COFFEE\" : \"Eating Out\",\n",
    "        \"CARREFOUR\" : \"Groceries\",\n",
    "        \"SPINNEYS\" : \"Groceries\",\n",
    "        \"Uber\" : \"Transportations\",\n",
    "        \"Go Bus\" : \"Transportations\",\n",
    "        \"CAREEM\" : \"Transportations\",\n",
    "        \"Swvl\" : \"Transportations\",\n",
    "        \"EGYPTRAILWAYS\" : \"Transportations\",\n",
    "        \"TOTAL FUEL Gas Station\" : \"Snacks & Coffee\",\n",
    "        \"MASTER EXPRESS\" : \"Snacks & Coffee\",\n",
    "        \"EMARATMISR\" : \"Snacks & Coffee\",\n",
    "        \"ON THE RUN\" : \"Snacks & Coffee\",\n",
    "        \"TOTAL BONJOUR Gas Station\" : \"Snacks & Coffee\",\n",
    "        \"STARBUCKS\" : \"Snacks & Coffee\",\n",
    "        \"AMZN\" : \"Personal Development\",\n",
    "        \"UDEMY\" : \"Personal Development\",\n",
    "        \"German Course\" : \"Personal Development\",\n",
    "        \"Spotify\" : \"Music\",\n",
    "        \"myfawry\" : \"Music\",\n",
    "        \"RADIOSHACK\" : \"Music\",\n",
    "        \"H&M-CAIRO FESTIVAL\" : \"Clothing\",\n",
    "        \"AMERICAN EAGLE OUTFIT\" : \"Clothing\",\n",
    "        \"BERSHKA\" : \"Clothing\",\n",
    "        \"DECATHLON\" : \"Clothing\",\n",
    "        \"BOXER\" : \"Clothing\",\n",
    "        \"VAUDE\" : \"Clothing\",\n",
    "        \"LC WAIKIKI\" : \"Clothing\",\n",
    "        \"TOWN TEAM\" : \"Clothing\",\n",
    "        \"ZARA\" : \"Clothing\",\n",
    "        \"ADIDAS\" : \"Clothing\",\n",
    "        \"IKEA\":\"Furniture\",\n",
    "        \"MINISO\":\"Furniture\",\n",
    "        \"SOUQ\":\"Furniture\",\n",
    "        \"Other\":\"Other\",\n",
    "        \"ALFA LAB\":\"Medical\",\n",
    "        \"EL EZABY\":\"Medical\",\n",
    "        \"Dahab Hostel\":\"Entertainment\",\n",
    "        \"Flight Tickets\":\"Entertainment\"\n",
    "    }\n",
    "    return category_dict.get(word)"
   ]
  },
  {
   "cell_type": "code",
   "execution_count": 61,
   "metadata": {},
   "outputs": [
    {
     "name": "stderr",
     "output_type": "stream",
     "text": [
      "/usr/local/lib/python3.6/dist-packages/pandas/core/indexing.py:671: SettingWithCopyWarning: \n",
      "A value is trying to be set on a copy of a slice from a DataFrame\n",
      "\n",
      "See the caveats in the documentation: https://pandas.pydata.org/pandas-docs/stable/user_guide/indexing.html#returning-a-view-versus-a-copy\n",
      "  self._setitem_with_indexer(indexer, value)\n"
     ]
    }
   ],
   "source": [
    "#filling up category column\n",
    "for i in range(len(df['Transaction'])):\n",
    "    df['Category'].loc[i] = categorizations(df['Transaction'].loc[i])"
   ]
  },
  {
   "cell_type": "code",
   "execution_count": 62,
   "metadata": {},
   "outputs": [],
   "source": [
    "#setting category column as index\n",
    "df.set_index(\"Category\", inplace = True)"
   ]
  },
  {
   "cell_type": "code",
   "execution_count": 63,
   "metadata": {},
   "outputs": [
    {
     "data": {
      "text/html": [
       "<div>\n",
       "<style scoped>\n",
       "    .dataframe tbody tr th:only-of-type {\n",
       "        vertical-align: middle;\n",
       "    }\n",
       "\n",
       "    .dataframe tbody tr th {\n",
       "        vertical-align: top;\n",
       "    }\n",
       "\n",
       "    .dataframe thead th {\n",
       "        text-align: right;\n",
       "    }\n",
       "</style>\n",
       "<table border=\"1\" class=\"dataframe\">\n",
       "  <thead>\n",
       "    <tr style=\"text-align: right;\">\n",
       "      <th></th>\n",
       "      <th>Date</th>\n",
       "      <th>Transaction</th>\n",
       "      <th>Amount</th>\n",
       "    </tr>\n",
       "    <tr>\n",
       "      <th>Category</th>\n",
       "      <th></th>\n",
       "      <th></th>\n",
       "      <th></th>\n",
       "    </tr>\n",
       "  </thead>\n",
       "  <tbody>\n",
       "    <tr>\n",
       "      <th>Withdrawal</th>\n",
       "      <td>2019-03-27</td>\n",
       "      <td>WITHDRAWAL</td>\n",
       "      <td>800.00</td>\n",
       "    </tr>\n",
       "    <tr>\n",
       "      <th>Withdrawal</th>\n",
       "      <td>2019-04-14</td>\n",
       "      <td>WITHDRAWAL</td>\n",
       "      <td>200.00</td>\n",
       "    </tr>\n",
       "    <tr>\n",
       "      <th>Withdrawal</th>\n",
       "      <td>2019-04-15</td>\n",
       "      <td>WITHDRAWAL</td>\n",
       "      <td>300.00</td>\n",
       "    </tr>\n",
       "    <tr>\n",
       "      <th>Withdrawal</th>\n",
       "      <td>2019-04-18</td>\n",
       "      <td>WITHDRAWAL</td>\n",
       "      <td>3.00</td>\n",
       "    </tr>\n",
       "    <tr>\n",
       "      <th>Withdrawal</th>\n",
       "      <td>2019-04-18</td>\n",
       "      <td>WITHDRAWAL</td>\n",
       "      <td>100.00</td>\n",
       "    </tr>\n",
       "    <tr>\n",
       "      <th>...</th>\n",
       "      <td>...</td>\n",
       "      <td>...</td>\n",
       "      <td>...</td>\n",
       "    </tr>\n",
       "    <tr>\n",
       "      <th>Eating Out</th>\n",
       "      <td>2020-03-25</td>\n",
       "      <td>MCDONALDS</td>\n",
       "      <td>51.00</td>\n",
       "    </tr>\n",
       "    <tr>\n",
       "      <th>Groceries</th>\n",
       "      <td>2020-03-25</td>\n",
       "      <td>CARREFOUR</td>\n",
       "      <td>665.80</td>\n",
       "    </tr>\n",
       "    <tr>\n",
       "      <th>Transportations</th>\n",
       "      <td>2020-03-26</td>\n",
       "      <td>Uber</td>\n",
       "      <td>78.62</td>\n",
       "    </tr>\n",
       "    <tr>\n",
       "      <th>Withdrawal</th>\n",
       "      <td>2020-03-31</td>\n",
       "      <td>WITHDRAWAL</td>\n",
       "      <td>1500.00</td>\n",
       "    </tr>\n",
       "    <tr>\n",
       "      <th>Withdrawal</th>\n",
       "      <td>2020-03-31</td>\n",
       "      <td>WITHDRAWAL</td>\n",
       "      <td>50.00</td>\n",
       "    </tr>\n",
       "  </tbody>\n",
       "</table>\n",
       "<p>547 rows × 3 columns</p>\n",
       "</div>"
      ],
      "text/plain": [
       "                      Date Transaction   Amount\n",
       "Category                                       \n",
       "Withdrawal      2019-03-27  WITHDRAWAL   800.00\n",
       "Withdrawal      2019-04-14  WITHDRAWAL   200.00\n",
       "Withdrawal      2019-04-15  WITHDRAWAL   300.00\n",
       "Withdrawal      2019-04-18  WITHDRAWAL     3.00\n",
       "Withdrawal      2019-04-18  WITHDRAWAL   100.00\n",
       "...                    ...         ...      ...\n",
       "Eating Out      2020-03-25   MCDONALDS    51.00\n",
       "Groceries       2020-03-25   CARREFOUR   665.80\n",
       "Transportations 2020-03-26        Uber    78.62\n",
       "Withdrawal      2020-03-31  WITHDRAWAL  1500.00\n",
       "Withdrawal      2020-03-31  WITHDRAWAL    50.00\n",
       "\n",
       "[547 rows x 3 columns]"
      ]
     },
     "execution_count": 63,
     "metadata": {},
     "output_type": "execute_result"
    }
   ],
   "source": [
    "df"
   ]
  },
  {
   "cell_type": "code",
   "execution_count": 64,
   "metadata": {},
   "outputs": [
    {
     "data": {
      "text/plain": [
       "Index(['Withdrawal', 'Withdrawal', 'Withdrawal', 'Withdrawal', 'Withdrawal',\n",
       "       'Withdrawal', 'Withdrawal', 'Withdrawal', 'Withdrawal', 'Withdrawal',\n",
       "       ...\n",
       "       'Transportations', 'Withdrawal', 'Withdrawal', 'Snacks & Coffee',\n",
       "       'Music', 'Eating Out', 'Groceries', 'Transportations', 'Withdrawal',\n",
       "       'Withdrawal'],\n",
       "      dtype='object', name='Category', length=547)"
      ]
     },
     "execution_count": 64,
     "metadata": {},
     "output_type": "execute_result"
    }
   ],
   "source": [
    "df.index"
   ]
  },
  {
   "cell_type": "code",
   "execution_count": 65,
   "metadata": {},
   "outputs": [
    {
     "data": {
      "text/plain": [
       "Index(['Date', 'Transaction', 'Amount'], dtype='object')"
      ]
     },
     "execution_count": 65,
     "metadata": {},
     "output_type": "execute_result"
    }
   ],
   "source": [
    "df.columns"
   ]
  },
  {
   "cell_type": "markdown",
   "metadata": {},
   "source": [
    "# Where did my money go?\n",
    "First, lets build different dataframe with the summation of each category."
   ]
  },
  {
   "cell_type": "code",
   "execution_count": 66,
   "metadata": {},
   "outputs": [
    {
     "data": {
      "text/html": [
       "<div>\n",
       "<style scoped>\n",
       "    .dataframe tbody tr th:only-of-type {\n",
       "        vertical-align: middle;\n",
       "    }\n",
       "\n",
       "    .dataframe tbody tr th {\n",
       "        vertical-align: top;\n",
       "    }\n",
       "\n",
       "    .dataframe thead th {\n",
       "        text-align: right;\n",
       "    }\n",
       "</style>\n",
       "<table border=\"1\" class=\"dataframe\">\n",
       "  <thead>\n",
       "    <tr style=\"text-align: right;\">\n",
       "      <th></th>\n",
       "      <th>Category</th>\n",
       "      <th>Amount</th>\n",
       "    </tr>\n",
       "  </thead>\n",
       "  <tbody>\n",
       "    <tr>\n",
       "      <th>0</th>\n",
       "      <td>Clothing</td>\n",
       "      <td>10885.00</td>\n",
       "    </tr>\n",
       "    <tr>\n",
       "      <th>1</th>\n",
       "      <td>Eating Out</td>\n",
       "      <td>3968.09</td>\n",
       "    </tr>\n",
       "    <tr>\n",
       "      <th>2</th>\n",
       "      <td>Entertainment</td>\n",
       "      <td>7800.00</td>\n",
       "    </tr>\n",
       "    <tr>\n",
       "      <th>3</th>\n",
       "      <td>Furniture</td>\n",
       "      <td>4052.40</td>\n",
       "    </tr>\n",
       "    <tr>\n",
       "      <th>4</th>\n",
       "      <td>Groceries</td>\n",
       "      <td>5852.97</td>\n",
       "    </tr>\n",
       "    <tr>\n",
       "      <th>5</th>\n",
       "      <td>Medical</td>\n",
       "      <td>1621.17</td>\n",
       "    </tr>\n",
       "    <tr>\n",
       "      <th>6</th>\n",
       "      <td>Music</td>\n",
       "      <td>3090.84</td>\n",
       "    </tr>\n",
       "    <tr>\n",
       "      <th>7</th>\n",
       "      <td>Other</td>\n",
       "      <td>2659.47</td>\n",
       "    </tr>\n",
       "    <tr>\n",
       "      <th>8</th>\n",
       "      <td>Personal Development</td>\n",
       "      <td>10028.90</td>\n",
       "    </tr>\n",
       "    <tr>\n",
       "      <th>9</th>\n",
       "      <td>Snacks &amp; Coffee</td>\n",
       "      <td>3916.44</td>\n",
       "    </tr>\n",
       "    <tr>\n",
       "      <th>10</th>\n",
       "      <td>Transportations</td>\n",
       "      <td>12588.47</td>\n",
       "    </tr>\n",
       "    <tr>\n",
       "      <th>11</th>\n",
       "      <td>Withdrawal</td>\n",
       "      <td>32414.00</td>\n",
       "    </tr>\n",
       "  </tbody>\n",
       "</table>\n",
       "</div>"
      ],
      "text/plain": [
       "                Category    Amount\n",
       "0               Clothing  10885.00\n",
       "1             Eating Out   3968.09\n",
       "2          Entertainment   7800.00\n",
       "3              Furniture   4052.40\n",
       "4              Groceries   5852.97\n",
       "5                Medical   1621.17\n",
       "6                  Music   3090.84\n",
       "7                  Other   2659.47\n",
       "8   Personal Development  10028.90\n",
       "9        Snacks & Coffee   3916.44\n",
       "10       Transportations  12588.47\n",
       "11            Withdrawal  32414.00"
      ]
     },
     "execution_count": 66,
     "metadata": {},
     "output_type": "execute_result"
    }
   ],
   "source": [
    "total_amounts = df.groupby('Category')['Amount'].sum().reset_index()\n",
    "total_amounts"
   ]
  },
  {
   "cell_type": "code",
   "execution_count": 80,
   "metadata": {
    "scrolled": true
   },
   "outputs": [
    {
     "name": "stdout",
     "output_type": "stream",
     "text": [
      "Total money spent:  98877.75 EGP, With total count of transactions: 547\n"
     ]
    },
    {
     "data": {
      "image/png": "[encoded data removed]",
      "text/plain": [
       "<Figure size 936x432 with 1 Axes>"
      ]
     },
     "metadata": {
      "needs_background": "light"
     },
     "output_type": "display_data"
    }
   ],
   "source": [
    "plt.figure(figsize=(13,6))\n",
    "plt.plot('Category','Amount','--r',data=total_amounts)\n",
    "plt.xticks(total_amounts.index, total_amounts['Category'], rotation=90)\n",
    "plt.title(\"Total money spent across the year\")\n",
    "plt.ylabel(\"Money\")\n",
    "plt.xlabel(\"Time\")\n",
    "plt.grid(True)\n",
    "total_money_sum = total_amounts['Amount'].sum()\n",
    "total_tran_count = df['Amount'].count()\n",
    "print(\"Total money spent: \",total_money_sum,\"EGP, With total count of transactions:\", total_tran_count)\n",
    "plt.savefig('Total money spent across the year' + '.png', bbox_inches='tight')"
   ]
  },
  {
   "cell_type": "markdown",
   "metadata": {},
   "source": [
    "Apparently first observation that I have a lot of withdrawals, over 30k in total, that's a lot of untracked money I can't even remember were did I spend it! But again COVID-19 and fear of banking systems to fall apart made me to withdraw extra cash than usual."
   ]
  },
  {
   "cell_type": "markdown",
   "metadata": {},
   "source": [
    "## Analysing transportations.. Uber, Swvl, etc..\n",
    "Use Categorization function I can locate all indexes with the name 'Transportations'."
   ]
  },
  {
   "cell_type": "code",
   "execution_count": 68,
   "metadata": {},
   "outputs": [
    {
     "data": {
      "text/html": [
       "<div>\n",
       "<style scoped>\n",
       "    .dataframe tbody tr th:only-of-type {\n",
       "        vertical-align: middle;\n",
       "    }\n",
       "\n",
       "    .dataframe tbody tr th {\n",
       "        vertical-align: top;\n",
       "    }\n",
       "\n",
       "    .dataframe thead th {\n",
       "        text-align: right;\n",
       "    }\n",
       "</style>\n",
       "<table border=\"1\" class=\"dataframe\">\n",
       "  <thead>\n",
       "    <tr style=\"text-align: right;\">\n",
       "      <th></th>\n",
       "      <th>Date</th>\n",
       "      <th>Transaction</th>\n",
       "      <th>Amount</th>\n",
       "    </tr>\n",
       "    <tr>\n",
       "      <th>Category</th>\n",
       "      <th></th>\n",
       "      <th></th>\n",
       "      <th></th>\n",
       "    </tr>\n",
       "  </thead>\n",
       "  <tbody>\n",
       "    <tr>\n",
       "      <th>Transportations</th>\n",
       "      <td>2019-06-09</td>\n",
       "      <td>Uber</td>\n",
       "      <td>10.06</td>\n",
       "    </tr>\n",
       "    <tr>\n",
       "      <th>Transportations</th>\n",
       "      <td>2019-06-09</td>\n",
       "      <td>Uber</td>\n",
       "      <td>46.45</td>\n",
       "    </tr>\n",
       "    <tr>\n",
       "      <th>Transportations</th>\n",
       "      <td>2019-06-09</td>\n",
       "      <td>Uber</td>\n",
       "      <td>47.35</td>\n",
       "    </tr>\n",
       "    <tr>\n",
       "      <th>Transportations</th>\n",
       "      <td>2019-08-01</td>\n",
       "      <td>Uber</td>\n",
       "      <td>98.52</td>\n",
       "    </tr>\n",
       "    <tr>\n",
       "      <th>Transportations</th>\n",
       "      <td>2019-08-04</td>\n",
       "      <td>Uber</td>\n",
       "      <td>18.05</td>\n",
       "    </tr>\n",
       "  </tbody>\n",
       "</table>\n",
       "</div>"
      ],
      "text/plain": [
       "                      Date Transaction  Amount\n",
       "Category                                      \n",
       "Transportations 2019-06-09        Uber   10.06\n",
       "Transportations 2019-06-09        Uber   46.45\n",
       "Transportations 2019-06-09        Uber   47.35\n",
       "Transportations 2019-08-01        Uber   98.52\n",
       "Transportations 2019-08-04        Uber   18.05"
      ]
     },
     "execution_count": 68,
     "metadata": {},
     "output_type": "execute_result"
    }
   ],
   "source": [
    "all_trans = df.loc['Transportations']\n",
    "df.loc['Transportations'].head()"
   ]
  },
  {
   "cell_type": "code",
   "execution_count": 81,
   "metadata": {},
   "outputs": [
    {
     "name": "stdout",
     "output_type": "stream",
     "text": [
      "Money Spent on transportations:  12588.47 EGP, With total count of transactions: 257\n"
     ]
    },
    {
     "data": {
      "image/png": "[encoded data removed]",
      "text/plain": [
       "<Figure size 1080x360 with 1 Axes>"
      ]
     },
     "metadata": {
      "needs_background": "light"
     },
     "output_type": "display_data"
    }
   ],
   "source": [
    "plt.figure(figsize=(15,5))\n",
    "#scattering\n",
    "plt.scatter('Date','Amount',data=all_trans,s=7)\n",
    "plt.title(\"Total money spent on transportations\")\n",
    "plt.ylabel(\"Money Spent\")\n",
    "plt.grid(True)\n",
    "res = all_trans['Amount'].sum()\n",
    "total_tran_count = all_trans['Amount'].count()\n",
    "print(\"Money Spent on transportations: \", \"%.2f\" % res,\"EGP, With total count of transactions:\", total_tran_count)\n",
    "plt.savefig('Total money spent on transportations' + '.png', bbox_inches='tight')"
   ]
  },
  {
   "cell_type": "markdown",
   "metadata": {},
   "source": [
    "Over 12k spent over commute, most of the rides are 100 and under, probably this will be uber rides.. let's find out."
   ]
  },
  {
   "cell_type": "markdown",
   "metadata": {},
   "source": [
    "## Analysing Uber rides\n",
    "Build dataframe with every transaction with value 'Uber':"
   ]
  },
  {
   "cell_type": "code",
   "execution_count": 70,
   "metadata": {},
   "outputs": [
    {
     "data": {
      "text/html": [
       "<div>\n",
       "<style scoped>\n",
       "    .dataframe tbody tr th:only-of-type {\n",
       "        vertical-align: middle;\n",
       "    }\n",
       "\n",
       "    .dataframe tbody tr th {\n",
       "        vertical-align: top;\n",
       "    }\n",
       "\n",
       "    .dataframe thead th {\n",
       "        text-align: right;\n",
       "    }\n",
       "</style>\n",
       "<table border=\"1\" class=\"dataframe\">\n",
       "  <thead>\n",
       "    <tr style=\"text-align: right;\">\n",
       "      <th></th>\n",
       "      <th>Date</th>\n",
       "      <th>Transaction</th>\n",
       "      <th>Amount</th>\n",
       "    </tr>\n",
       "    <tr>\n",
       "      <th>Category</th>\n",
       "      <th></th>\n",
       "      <th></th>\n",
       "      <th></th>\n",
       "    </tr>\n",
       "  </thead>\n",
       "  <tbody>\n",
       "    <tr>\n",
       "      <th>Transportations</th>\n",
       "      <td>2019-06-09</td>\n",
       "      <td>Uber</td>\n",
       "      <td>10.06</td>\n",
       "    </tr>\n",
       "    <tr>\n",
       "      <th>Transportations</th>\n",
       "      <td>2019-06-09</td>\n",
       "      <td>Uber</td>\n",
       "      <td>46.45</td>\n",
       "    </tr>\n",
       "    <tr>\n",
       "      <th>Transportations</th>\n",
       "      <td>2019-06-09</td>\n",
       "      <td>Uber</td>\n",
       "      <td>47.35</td>\n",
       "    </tr>\n",
       "    <tr>\n",
       "      <th>Transportations</th>\n",
       "      <td>2019-08-01</td>\n",
       "      <td>Uber</td>\n",
       "      <td>98.52</td>\n",
       "    </tr>\n",
       "    <tr>\n",
       "      <th>Transportations</th>\n",
       "      <td>2019-08-04</td>\n",
       "      <td>Uber</td>\n",
       "      <td>18.05</td>\n",
       "    </tr>\n",
       "  </tbody>\n",
       "</table>\n",
       "</div>"
      ],
      "text/plain": [
       "                      Date Transaction  Amount\n",
       "Category                                      \n",
       "Transportations 2019-06-09        Uber   10.06\n",
       "Transportations 2019-06-09        Uber   46.45\n",
       "Transportations 2019-06-09        Uber   47.35\n",
       "Transportations 2019-08-01        Uber   98.52\n",
       "Transportations 2019-08-04        Uber   18.05"
      ]
     },
     "execution_count": 70,
     "metadata": {},
     "output_type": "execute_result"
    }
   ],
   "source": [
    "uber_df = df[df['Transaction']  == 'Uber']\n",
    "uber_df.head()"
   ]
  },
  {
   "cell_type": "code",
   "execution_count": 83,
   "metadata": {},
   "outputs": [
    {
     "name": "stdout",
     "output_type": "stream",
     "text": [
      "Uber rides :  9035.57 EGP, With total count of transactions: 223\n"
     ]
    },
    {
     "data": {
      "image/png": "[encoded data removed]",
      "text/plain": [
       "<Figure size 1080x288 with 1 Axes>"
      ]
     },
     "metadata": {
      "needs_background": "light"
     },
     "output_type": "display_data"
    }
   ],
   "source": [
    "plt.figure(figsize=(15,4))\n",
    "#scattering\n",
    "plt.scatter('Date','Amount',data=uber_df,s=10)\n",
    "plt.title(\"Uber Rides\")\n",
    "plt.ylabel(\"Money Spent\")\n",
    "plt.grid(True)\n",
    "res = uber_df['Amount'].sum()\n",
    "uber_count = uber_df['Amount'].count()\n",
    "print(\"Uber rides : \", \"%.2f\" % res,\"EGP, With total count of transactions:\", uber_count)\n",
    "plt.savefig('Uber Rides' + '.png', bbox_inches='tight')"
   ]
  },
  {
   "cell_type": "markdown",
   "metadata": {},
   "source": [
    "Yes! 9k on Uber! Sucks to be me! But let me see If most of them were under 65 EGP!"
   ]
  },
  {
   "cell_type": "code",
   "execution_count": 84,
   "metadata": {},
   "outputs": [
    {
     "name": "stdout",
     "output_type": "stream",
     "text": [
      "Uber rides under 65 :  6035.12 EGP, With total count of transactions: 187\n"
     ]
    },
    {
     "data": {
      "image/png": "[encoded data removed]",
      "text/plain": [
       "<Figure size 1080x288 with 1 Axes>"
      ]
     },
     "metadata": {
      "needs_background": "light"
     },
     "output_type": "display_data"
    }
   ],
   "source": [
    "uber_65_df = uber_df.loc[uber_df['Amount'] <= 65]\n",
    "#scattering\n",
    "plt.figure(figsize=(15,4))\n",
    "plt.scatter('Date','Amount',data=uber_65_df,s=10)\n",
    "plt.title(\"Uber Rides Under 65 EGP\")\n",
    "plt.ylabel(\"Money Spent\")\n",
    "plt.grid(True)\n",
    "res = uber_65_df['Amount'].sum()\n",
    "uber_count = uber_65_df['Amount'].count()\n",
    "print(\"Uber rides under 65 : \", \"%.2f\" % res,\"EGP, With total count of transactions:\", uber_count)\n",
    "plt.savefig('Uber Rides Under 65 EGP' + '.png', bbox_inches='tight')"
   ]
  },
  {
   "cell_type": "markdown",
   "metadata": {},
   "source": [
    "6k spent. This is more than 65% of the whole amount spent on Uber this year. So yeah, still sucks."
   ]
  },
  {
   "cell_type": "markdown",
   "metadata": {},
   "source": [
    "## Swvl?"
   ]
  },
  {
   "cell_type": "code",
   "execution_count": 73,
   "metadata": {},
   "outputs": [
    {
     "data": {
      "text/html": [
       "<div>\n",
       "<style scoped>\n",
       "    .dataframe tbody tr th:only-of-type {\n",
       "        vertical-align: middle;\n",
       "    }\n",
       "\n",
       "    .dataframe tbody tr th {\n",
       "        vertical-align: top;\n",
       "    }\n",
       "\n",
       "    .dataframe thead th {\n",
       "        text-align: right;\n",
       "    }\n",
       "</style>\n",
       "<table border=\"1\" class=\"dataframe\">\n",
       "  <thead>\n",
       "    <tr style=\"text-align: right;\">\n",
       "      <th></th>\n",
       "      <th>Date</th>\n",
       "      <th>Transaction</th>\n",
       "      <th>Amount</th>\n",
       "    </tr>\n",
       "    <tr>\n",
       "      <th>Category</th>\n",
       "      <th></th>\n",
       "      <th></th>\n",
       "      <th></th>\n",
       "    </tr>\n",
       "  </thead>\n",
       "  <tbody>\n",
       "    <tr>\n",
       "      <th>Transportations</th>\n",
       "      <td>2019-09-05</td>\n",
       "      <td>Swvl</td>\n",
       "      <td>22.5</td>\n",
       "    </tr>\n",
       "    <tr>\n",
       "      <th>Transportations</th>\n",
       "      <td>2019-09-11</td>\n",
       "      <td>Swvl</td>\n",
       "      <td>120.0</td>\n",
       "    </tr>\n",
       "    <tr>\n",
       "      <th>Transportations</th>\n",
       "      <td>2019-09-13</td>\n",
       "      <td>Swvl</td>\n",
       "      <td>120.0</td>\n",
       "    </tr>\n",
       "    <tr>\n",
       "      <th>Transportations</th>\n",
       "      <td>2019-09-16</td>\n",
       "      <td>Swvl</td>\n",
       "      <td>110.0</td>\n",
       "    </tr>\n",
       "    <tr>\n",
       "      <th>Transportations</th>\n",
       "      <td>2019-09-21</td>\n",
       "      <td>Swvl</td>\n",
       "      <td>55.0</td>\n",
       "    </tr>\n",
       "  </tbody>\n",
       "</table>\n",
       "</div>"
      ],
      "text/plain": [
       "                      Date Transaction  Amount\n",
       "Category                                      \n",
       "Transportations 2019-09-05        Swvl    22.5\n",
       "Transportations 2019-09-11        Swvl   120.0\n",
       "Transportations 2019-09-13        Swvl   120.0\n",
       "Transportations 2019-09-16        Swvl   110.0\n",
       "Transportations 2019-09-21        Swvl    55.0"
      ]
     },
     "execution_count": 73,
     "metadata": {},
     "output_type": "execute_result"
    }
   ],
   "source": [
    "swvl_df = df[df['Transaction']  == 'Swvl']\n",
    "swvl_df.head()"
   ]
  },
  {
   "cell_type": "code",
   "execution_count": 85,
   "metadata": {
    "scrolled": true
   },
   "outputs": [
    {
     "name": "stdout",
     "output_type": "stream",
     "text": [
      "Swvl rides :  2038.10 EGP, With total count of transactions: 24\n"
     ]
    },
    {
     "data": {
      "image/png": "[encoded data removed]",
      "text/plain": [
       "<Figure size 1080x288 with 1 Axes>"
      ]
     },
     "metadata": {
      "needs_background": "light"
     },
     "output_type": "display_data"
    }
   ],
   "source": [
    "plt.figure(figsize=(15,4))\n",
    "plt.plot('Date','Amount',data=swvl_df,color='red')\n",
    "plt.title(\"Swvl Rides\")\n",
    "plt.ylabel(\"Money Spent\")\n",
    "plt.grid(True)\n",
    "res = swvl_df['Amount'].sum()\n",
    "res_count = swvl_df['Amount'].count()\n",
    "print(\"Swvl rides : \", \"%.2f\" % res,\"EGP, With total count of transactions:\", res_count)\n",
    "plt.savefig('Swvl Rides' + '.png', bbox_inches='tight')"
   ]
  },
  {
   "cell_type": "markdown",
   "metadata": {},
   "source": [
    "Well for sure it's not much because all the money went to uber :)"
   ]
  },
  {
   "cell_type": "markdown",
   "metadata": {},
   "source": [
    "## Eating in, out, snacks, coffee & lastly starbucks\n",
    "Build a concatenated dataframe with all food indexes:"
   ]
  },
  {
   "cell_type": "code",
   "execution_count": 75,
   "metadata": {},
   "outputs": [
    {
     "data": {
      "text/html": [
       "<div>\n",
       "<style scoped>\n",
       "    .dataframe tbody tr th:only-of-type {\n",
       "        vertical-align: middle;\n",
       "    }\n",
       "\n",
       "    .dataframe tbody tr th {\n",
       "        vertical-align: top;\n",
       "    }\n",
       "\n",
       "    .dataframe thead th {\n",
       "        text-align: right;\n",
       "    }\n",
       "</style>\n",
       "<table border=\"1\" class=\"dataframe\">\n",
       "  <thead>\n",
       "    <tr style=\"text-align: right;\">\n",
       "      <th></th>\n",
       "      <th>Date</th>\n",
       "      <th>Transaction</th>\n",
       "      <th>Amount</th>\n",
       "    </tr>\n",
       "    <tr>\n",
       "      <th>Category</th>\n",
       "      <th></th>\n",
       "      <th></th>\n",
       "      <th></th>\n",
       "    </tr>\n",
       "  </thead>\n",
       "  <tbody>\n",
       "    <tr>\n",
       "      <th>Eating Out</th>\n",
       "      <td>2019-06-02</td>\n",
       "      <td>PAPA JOHNS</td>\n",
       "      <td>349.98</td>\n",
       "    </tr>\n",
       "    <tr>\n",
       "      <th>Eating Out</th>\n",
       "      <td>2019-07-28</td>\n",
       "      <td>PIZZAHUT</td>\n",
       "      <td>98.50</td>\n",
       "    </tr>\n",
       "    <tr>\n",
       "      <th>Eating Out</th>\n",
       "      <td>2019-08-08</td>\n",
       "      <td>HOLMES BURGERS</td>\n",
       "      <td>171.64</td>\n",
       "    </tr>\n",
       "    <tr>\n",
       "      <th>Eating Out</th>\n",
       "      <td>2019-08-17</td>\n",
       "      <td>PIZZAHUT</td>\n",
       "      <td>285.99</td>\n",
       "    </tr>\n",
       "    <tr>\n",
       "      <th>Eating Out</th>\n",
       "      <td>2019-08-23</td>\n",
       "      <td>BRAZILIAN COFFEE</td>\n",
       "      <td>265.00</td>\n",
       "    </tr>\n",
       "  </tbody>\n",
       "</table>\n",
       "</div>"
      ],
      "text/plain": [
       "                 Date       Transaction  Amount\n",
       "Category                                       \n",
       "Eating Out 2019-06-02        PAPA JOHNS  349.98\n",
       "Eating Out 2019-07-28          PIZZAHUT   98.50\n",
       "Eating Out 2019-08-08    HOLMES BURGERS  171.64\n",
       "Eating Out 2019-08-17          PIZZAHUT  285.99\n",
       "Eating Out 2019-08-23  BRAZILIAN COFFEE  265.00"
      ]
     },
     "execution_count": 75,
     "metadata": {},
     "output_type": "execute_result"
    }
   ],
   "source": [
    "#Getting all kind of food\n",
    "df_food = df[df.index.str.startswith('Eatin')]\n",
    "df_snacks = df[df.index.str.startswith('Snacks')]\n",
    "df_groceries = df[df.index.str.startswith('Grocer')]\n",
    "frames = [df_food, df_snacks,df_groceries]\n",
    "df_ftotal = pd.concat(frames,ignore_index=False)\n",
    "df_ftotal.head()"
   ]
  },
  {
   "cell_type": "code",
   "execution_count": 86,
   "metadata": {},
   "outputs": [
    {
     "name": "stdout",
     "output_type": "stream",
     "text": [
      "Total overall :  13737.50 EGP, With total count of transactions: 117\n",
      "Total snacks and coffe:  3916.44 EGP, With total count of transactions: 73\n"
     ]
    },
    {
     "data": {
      "image/png": "[encoded data removed]",
      "text/plain": [
       "<Figure size 1080x288 with 1 Axes>"
      ]
     },
     "metadata": {
      "needs_background": "light"
     },
     "output_type": "display_data"
    },
    {
     "data": {
      "image/png": "[encoded data removed]",
      "text/plain": [
       "<Figure size 1080x288 with 1 Axes>"
      ]
     },
     "metadata": {
      "needs_background": "light"
     },
     "output_type": "display_data"
    }
   ],
   "source": [
    "#scattering\n",
    "plt.figure(figsize=(15,4))\n",
    "plt.scatter('Date','Amount',data=df_ftotal,s=15)\n",
    "plt.title(\"Money spent on food and drinks\")\n",
    "plt.ylabel(\"Money Spent\")\n",
    "plt.grid(True)\n",
    "ftotal_res_var = df_ftotal['Amount'].sum()\n",
    "ftotal_res_num = df_ftotal['Amount'].count()\n",
    "print(\"Total overall : \", \"%.2f\" % ftotal_res_var,\"EGP, With total count of transactions:\", ftotal_res_num)\n",
    "plt.savefig('Money spent on food and drinks' + '.png', bbox_inches='tight')\n",
    "\n",
    "#snacks and coffe on work breaks\n",
    "df_around = df.loc['Snacks & Coffee']\n",
    "\n",
    "#scattering\n",
    "plt.figure(figsize=(15,4))\n",
    "plt.scatter('Date','Amount',data=df_around,s=15)\n",
    "plt.title(\"Money spent on snacks on work breaks\")\n",
    "plt.ylabel(\"Money Spent\")\n",
    "plt.grid(True)\n",
    "around_res_var = df_around['Amount'].sum()\n",
    "around_res_num = df_around['Amount'].count()\n",
    "print(\"Total snacks and coffe: \", \"%.2f\" % around_res_var,\"EGP, With total count of transactions:\", around_res_num)\n",
    "plt.savefig('Money spent on snacks on work breaks' + '.png', bbox_inches='tight')"
   ]
  },
  {
   "cell_type": "markdown",
   "metadata": {},
   "source": [
    "I spent over 13k on food, I think thats a good estimate for one person per year.. But, around 4k spent on snaks and coffee at work!.. But from feb 2020, spending habbits on work has decreased dramatically, I think thats because I started buying my own coffee beans and started making coffe at work. tastes shit though."
   ]
  },
  {
   "cell_type": "markdown",
   "metadata": {},
   "source": [
    "## Starbucks &  McDonald's!"
   ]
  },
  {
   "cell_type": "code",
   "execution_count": 88,
   "metadata": {
    "scrolled": false
   },
   "outputs": [
    {
     "name": "stdout",
     "output_type": "stream",
     "text": [
      "Total overall :  2308.09 EGP, With total count of transactions: 24\n"
     ]
    },
    {
     "data": {
      "image/png": "[encoded data removed]",
      "text/plain": [
       "<Figure size 1080x288 with 1 Axes>"
      ]
     },
     "metadata": {
      "needs_background": "light"
     },
     "output_type": "display_data"
    }
   ],
   "source": [
    "df_starbucks = df[df['Transaction']  == 'STARBUCKS']\n",
    "df_mc = df[df['Transaction']  == 'MCDONALDS']\n",
    "frames = [df_starbucks, df_mc]\n",
    "df_trashf = pd.concat(frames,ignore_index=False)\n",
    "\n",
    "def plot_trashfood(adjust=False):\n",
    "    plt.figure(figsize=(15, 4))\n",
    "    x, y = df_trashf['Date'], df_trashf['Amount']\n",
    "    plt.scatter(x, y, s=15, c='r', edgecolors=(1,1,1,0))\n",
    "    texts = []\n",
    "    for x, y, s in zip(x, y, df_trashf['Transaction']):\n",
    "        texts.append(plt.text(x, y, s, size=11))\n",
    "    plt.xlabel('Time')\n",
    "    plt.ylabel('Money')\n",
    "    ftrash_res_var = df_trashf['Amount'].sum()\n",
    "    ftrash_res_num = df_trashf['Amount'].count()\n",
    "    print(\"Total overall : \", \"%.2f\" % ftrash_res_var,\"EGP, With total count of transactions:\", ftrash_res_num)\n",
    "    if adjust:\n",
    "        plt.title(adjust_text(texts))\n",
    "        plt.title('McDonalds And Starbucks')\n",
    "        plt.savefig('McDonalds And Starbucks' + '.png', bbox_inches='tight')\n",
    "plot_trashfood(adjust=True)"
   ]
  },
  {
   "cell_type": "markdown",
   "metadata": {},
   "source": [
    "Don't ask about the 550 EGP starbucks dot way up!"
   ]
  },
  {
   "cell_type": "markdown",
   "metadata": {},
   "source": [
    "## And now to the fun part! clothes"
   ]
  },
  {
   "cell_type": "code",
   "execution_count": 89,
   "metadata": {},
   "outputs": [
    {
     "name": "stdout",
     "output_type": "stream",
     "text": [
      "Total overall :  10885.00 EGP, With total count of transactions: 16\n"
     ]
    },
    {
     "data": {
      "image/png": "[encoded data removed]",
      "text/plain": [
       "<Figure size 1080x360 with 1 Axes>"
      ]
     },
     "metadata": {
      "needs_background": "light"
     },
     "output_type": "display_data"
    }
   ],
   "source": [
    "df_cloth = df[df.index.str.startswith('Cloth')]\n",
    "def plot_cloth(adjust=False):\n",
    "    plt.figure(figsize=(15, 5))\n",
    "    x, y = df_cloth['Date'], df_cloth['Amount']\n",
    "    plt.scatter(x, y, s=15, c='r', edgecolors=(1,1,1,0))\n",
    "    texts = []\n",
    "    for x, y, s in zip(x, y, df_cloth['Transaction']):\n",
    "        texts.append(plt.text(x, y, s, size=11))\n",
    "    plt.xlabel('Time')\n",
    "    plt.ylabel('Money')\n",
    "    cloth_res_var = df_cloth['Amount'].sum()\n",
    "    cloth_res_num = df_cloth['Amount'].count()\n",
    "    print(\"Total overall : \", \"%.2f\" % cloth_res_var,\"EGP, With total count of transactions:\", cloth_res_num)\n",
    "    if adjust:\n",
    "        plt.title(adjust_text(texts))\n",
    "        plt.title('Money spent on clothing')\n",
    "        plt.savefig('Money spent on clothing' + '.png', bbox_inches='tight')\n",
    "plot_cloth(adjust=True)"
   ]
  },
  {
   "cell_type": "markdown",
   "metadata": {},
   "source": [
    "## Finally it's time to know how money do I put to invest in myself"
   ]
  },
  {
   "cell_type": "code",
   "execution_count": 90,
   "metadata": {},
   "outputs": [
    {
     "name": "stdout",
     "output_type": "stream",
     "text": [
      "Total overall :  10885.00 EGP , With total transactions of:  16\n"
     ]
    },
    {
     "data": {
      "image/png": "[encoded data removed]",
      "text/plain": [
       "<Figure size 1080x432 with 1 Axes>"
      ]
     },
     "metadata": {
      "needs_background": "light"
     },
     "output_type": "display_data"
    }
   ],
   "source": [
    "df_pr = df[df.index.str.startswith('Personal')]\n",
    "def plot_pr(adjust=False):\n",
    "    plt.figure(figsize=(15, 6))\n",
    "    x, y = df_pr['Date'], df_pr['Amount']\n",
    "    plt.plot(x, y, c='g')\n",
    "    texts = []\n",
    "    for x, y, s in zip(x, y, df_pr['Transaction']):\n",
    "        texts.append(plt.text(x, y, s, size=11))\n",
    "    plt.xlabel('Time')\n",
    "    plt.ylabel('Money')\n",
    "    pr_res_var = df_cloth['Amount'].sum()\n",
    "    pr_res_num = df_cloth['Amount'].count()\n",
    "    print(\"Total overall : \", \"%.2f\" % pr_res_var,\"EGP\",\", With total transactions of: \", pr_res_num)\n",
    "    if adjust:\n",
    "        plt.title(adjust_text(texts))\n",
    "        plt.title('Money spent on personal development')\n",
    "        plt.savefig('Money spent on personal development' + '.png', bbox_inches='tight')\n",
    "plot_pr(adjust=True)"
   ]
  },
  {
   "cell_type": "markdown",
   "metadata": {},
   "source": [
    "Good. But apparently I like food and clothes way more!"
   ]
  }
 ],
 "metadata": {
  "kernelspec": {
   "display_name": "Python 3",
   "language": "python",
   "name": "python3"
  },
  "language_info": {
   "codemirror_mode": {
    "name": "ipython",
    "version": 3
   },
   "file_extension": ".py",
   "mimetype": "text/x-python",
   "name": "python",
   "nbconvert_exporter": "python",
   "pygments_lexer": "ipython3",
   "version": "3.6.9"
  }
 },
 "nbformat": 4,
 "nbformat_minor": 4
}
